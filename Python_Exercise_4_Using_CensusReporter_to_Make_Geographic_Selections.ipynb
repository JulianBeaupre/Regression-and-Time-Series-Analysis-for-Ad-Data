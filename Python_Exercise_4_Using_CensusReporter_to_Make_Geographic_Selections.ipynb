{
  "nbformat": 4,
  "nbformat_minor": 0,
  "metadata": {
    "colab": {
      "name": "Python Exercise 4: Using CensusReporter to Make Geographic Selections",
      "provenance": [],
      "include_colab_link": true
    },
    "kernelspec": {
      "name": "python3",
      "display_name": "Python 3"
    }
  },
  "cells": [
    {
      "cell_type": "markdown",
      "metadata": {
        "id": "view-in-github",
        "colab_type": "text"
      },
      "source": [
        "<a href=\"https://colab.research.google.com/github/JulianBeaupre/jube1/blob/master/Python_Exercise_4_Using_CensusReporter_to_Make_Geographic_Selections.ipynb\" target=\"_parent\"><img src=\"https://colab.research.google.com/assets/colab-badge.svg\" alt=\"Open In Colab\"/></a>"
      ]
    },
    {
      "cell_type": "code",
      "metadata": {
        "id": "naSRwAyhSlhE",
        "colab_type": "code",
        "colab": {}
      },
      "source": [
        "import pandas as pd\n",
        "import requests\n",
        "import json\n",
        "\n",
        "DATA_URL = 'https://s3.amazonaws.com/vargo.aprd6342/data/msas.csv'\n",
        "df = pd.read_csv(DATA_URL)"
      ],
      "execution_count": 0,
      "outputs": []
    },
    {
      "cell_type": "code",
      "metadata": {
        "id": "YJk8GvskTVe_",
        "colab_type": "code",
        "outputId": "4da21fbe-0ec0-4dcc-edbc-43d89efc7bf9",
        "colab": {
          "base_uri": "https://localhost:8080/",
          "height": 204
        }
      },
      "source": [
        "df.head()"
      ],
      "execution_count": 0,
      "outputs": [
        {
          "output_type": "execute_result",
          "data": {
            "text/html": [
              "<div>\n",
              "<style scoped>\n",
              "    .dataframe tbody tr th:only-of-type {\n",
              "        vertical-align: middle;\n",
              "    }\n",
              "\n",
              "    .dataframe tbody tr th {\n",
              "        vertical-align: top;\n",
              "    }\n",
              "\n",
              "    .dataframe thead th {\n",
              "        text-align: right;\n",
              "    }\n",
              "</style>\n",
              "<table border=\"1\" class=\"dataframe\">\n",
              "  <thead>\n",
              "    <tr style=\"text-align: right;\">\n",
              "      <th></th>\n",
              "      <th>CBSA</th>\n",
              "      <th>NAME</th>\n",
              "      <th>POPESTIMATE2017</th>\n",
              "    </tr>\n",
              "  </thead>\n",
              "  <tbody>\n",
              "    <tr>\n",
              "      <th>0</th>\n",
              "      <td>10180</td>\n",
              "      <td>Abilene, TX</td>\n",
              "      <td>170219</td>\n",
              "    </tr>\n",
              "    <tr>\n",
              "      <th>1</th>\n",
              "      <td>10420</td>\n",
              "      <td>Akron, OH</td>\n",
              "      <td>703505</td>\n",
              "    </tr>\n",
              "    <tr>\n",
              "      <th>2</th>\n",
              "      <td>10500</td>\n",
              "      <td>Albany, GA</td>\n",
              "      <td>151434</td>\n",
              "    </tr>\n",
              "    <tr>\n",
              "      <th>3</th>\n",
              "      <td>10540</td>\n",
              "      <td>Albany, OR</td>\n",
              "      <td>125047</td>\n",
              "    </tr>\n",
              "    <tr>\n",
              "      <th>4</th>\n",
              "      <td>10580</td>\n",
              "      <td>Albany-Schenectady-Troy, NY</td>\n",
              "      <td>886188</td>\n",
              "    </tr>\n",
              "  </tbody>\n",
              "</table>\n",
              "</div>"
            ],
            "text/plain": [
              "    CBSA                         NAME  POPESTIMATE2017\n",
              "0  10180                  Abilene, TX           170219\n",
              "1  10420                    Akron, OH           703505\n",
              "2  10500                   Albany, GA           151434\n",
              "3  10540                   Albany, OR           125047\n",
              "4  10580  Albany-Schenectady-Troy, NY           886188"
            ]
          },
          "metadata": {
            "tags": []
          },
          "execution_count": 6
        }
      ]
    },
    {
      "cell_type": "code",
      "metadata": {
        "id": "y4gx2fiNT86Z",
        "colab_type": "code",
        "colab": {}
      },
      "source": [
        "tableids = ['B19001', 'B01001', 'B03002']\n",
        "tableidsstring = \",\".join(tableids)\n",
        "\n",
        "geoid = '31000US' + df['CBSA'].astype(str)\n",
        "df['geoid'] = geoid"
      ],
      "execution_count": 0,
      "outputs": []
    },
    {
      "cell_type": "markdown",
      "metadata": {
        "id": "iDnoA0Vqfk8H",
        "colab_type": "text"
      },
      "source": [
        "##We should choose 50k to 74.9k HH income\n"
      ]
    },
    {
      "cell_type": "markdown",
      "metadata": {
        "id": "eqXMldYAfvCU",
        "colab_type": "text"
      },
      "source": [
        "##We should choose 18 - 34"
      ]
    },
    {
      "cell_type": "markdown",
      "metadata": {
        "id": "zjKIl2UTfy7s",
        "colab_type": "text"
      },
      "source": [
        "##We should look at hispanic populations"
      ]
    },
    {
      "cell_type": "code",
      "metadata": {
        "id": "mAY7spdncxby",
        "colab_type": "code",
        "colab": {}
      },
      "source": [
        "geoidstring_part1 = \",\".join(geoid[:int(len(geoid)/2)])\n",
        "requesturl1 = 'http://api.censusreporter.org/1.0/data/show/latest?table_ids=%s&geo_ids=%s' % (tableidsstring, geoidstring_part1)\n",
        "loadedjson1 = requests.get(requesturl1)\n",
        "parsedjson1 = json.loads(loadedjson1.text)\n",
        "\n",
        "geoidstring_part2 = \",\".join(geoid[int(len(geoid)/2):])\n",
        "requesturl2 = 'http://api.censusreporter.org/1.0/data/show/latest?table_ids=%s&geo_ids=%s' % (tableidsstring, geoidstring_part2)\n",
        "loadedjson2 = requests.get(requesturl2)\n",
        "parsedjson2 = json.loads(loadedjson2.text)\n",
        "\n",
        "Everything = dict(parsedjson1['data'], **parsedjson2['data'])"
      ],
      "execution_count": 0,
      "outputs": []
    },
    {
      "cell_type": "code",
      "metadata": {
        "id": "6cexia8mc_eD",
        "colab_type": "code",
        "outputId": "6d5722b7-2b77-4d5c-e757-81fb4bd3fe36",
        "colab": {
          "base_uri": "https://localhost:8080/",
          "height": 374
        }
      },
      "source": [
        "Everything['31000US10180']['B03002']['estimate']"
      ],
      "execution_count": 0,
      "outputs": [
        {
          "output_type": "execute_result",
          "data": {
            "text/plain": [
              "{'B03002001': 174006.0,\n",
              " 'B03002002': 133580.0,\n",
              " 'B03002003': 110633.0,\n",
              " 'B03002004': 13466.0,\n",
              " 'B03002005': 648.0,\n",
              " 'B03002006': 3491.0,\n",
              " 'B03002007': 0.0,\n",
              " 'B03002008': 578.0,\n",
              " 'B03002009': 4764.0,\n",
              " 'B03002010': 706.0,\n",
              " 'B03002011': 4058.0,\n",
              " 'B03002012': 40426.0,\n",
              " 'B03002013': 21001.0,\n",
              " 'B03002014': 1075.0,\n",
              " 'B03002015': 0.0,\n",
              " 'B03002016': 461.0,\n",
              " 'B03002017': 27.0,\n",
              " 'B03002018': 16003.0,\n",
              " 'B03002019': 1859.0,\n",
              " 'B03002020': 871.0,\n",
              " 'B03002021': 988.0}"
            ]
          },
          "metadata": {
            "tags": []
          },
          "execution_count": 12
        }
      ]
    },
    {
      "cell_type": "code",
      "metadata": {
        "id": "5W_en_uWdGtJ",
        "colab_type": "code",
        "colab": {}
      },
      "source": [
        "HH_Income = []\n",
        "Pop_by_age = []\n",
        "Pop_by_Hispanic = []\n",
        "for i, row in df.iterrows():\n",
        "    Income = Everything[df['geoid'][i]]['B19001']['estimate']['B19001011']\n",
        "    + Everything[df['geoid'][i]]['B19001']['estimate']['B19001012'] \n",
        "    HH_Income.append(Income)\n",
        "    Pop = Everything[df['geoid'][i]]['B01001']['estimate']['B01001007']\n",
        "    + Everything[df['geoid'][i]]['B01001']['estimate']['B01001008']\n",
        "    + Everything[df['geoid'][i]]['B01001']['estimate']['B01001009']\n",
        "    + Everything[df['geoid'][i]]['B01001']['estimate']['B01001010']\n",
        "    + Everything[df['geoid'][i]]['B01001']['estimate']['B01001011']\n",
        "    + Everything[df['geoid'][i]]['B01001']['estimate']['B01001012']\n",
        "    + Everything[df['geoid'][i]]['B01001']['estimate']['B01001031']\n",
        "    + Everything[df['geoid'][i]]['B01001']['estimate']['B01001032']\n",
        "    + Everything[df['geoid'][i]]['B01001']['estimate']['B01001033']\n",
        "    + Everything[df['geoid'][i]]['B01001']['estimate']['B01001034']\n",
        "    + Everything[df['geoid'][i]]['B01001']['estimate']['B01001035']\n",
        "    + Everything[df['geoid'][i]]['B01001']['estimate']['B01001036']\n",
        "    Pop_by_age.append(Pop)\n",
        "    Hispanic = Everything[df['geoid'][i]]['B03002']['estimate']['B03002012']\n",
        "    Pop_by_Hispanic.append(Hispanic)\n",
        "\n",
        "df['Pop_by_Income'] = HH_Income\n",
        "df['Pop_by_Age'] = Pop_by_age\n",
        "df['Pop_by_Hispanic'] = Pop_by_Hispanic"
      ],
      "execution_count": 0,
      "outputs": []
    },
    {
      "cell_type": "code",
      "metadata": {
        "id": "-ELSgz1qeCtv",
        "colab_type": "code",
        "outputId": "e4a0c9a0-7694-4de2-a810-fb39c9213a7c",
        "colab": {
          "base_uri": "https://localhost:8080/",
          "height": 51
        }
      },
      "source": [
        "print(df.loc[df['Pop_by_Income'] == max(df['Pop_by_Income'])]['NAME'])"
      ],
      "execution_count": 0,
      "outputs": [
        {
          "output_type": "stream",
          "text": [
            "249    New York-Newark-Jersey City, NY-NJ-PA\n",
            "Name: NAME, dtype: object\n"
          ],
          "name": "stdout"
        }
      ]
    },
    {
      "cell_type": "markdown",
      "metadata": {
        "id": "T1p2DT0vg38r",
        "colab_type": "text"
      },
      "source": [
        "##NEWARK NJ"
      ]
    },
    {
      "cell_type": "code",
      "metadata": {
        "id": "bdFcDWoWeHaV",
        "colab_type": "code",
        "outputId": "191c15e0-9de2-46c6-c296-2dfc874d9e34",
        "colab": {
          "base_uri": "https://localhost:8080/",
          "height": 51
        }
      },
      "source": [
        "print(df.loc[df['Pop_by_Age'] == max(df['Pop_by_Age'])]['NAME'])"
      ],
      "execution_count": 0,
      "outputs": [
        {
          "output_type": "stream",
          "text": [
            "249    New York-Newark-Jersey City, NY-NJ-PA\n",
            "Name: NAME, dtype: object\n"
          ],
          "name": "stdout"
        }
      ]
    },
    {
      "cell_type": "markdown",
      "metadata": {
        "id": "PU34xlxkg7At",
        "colab_type": "text"
      },
      "source": [
        "##NEWARK NJ"
      ]
    },
    {
      "cell_type": "code",
      "metadata": {
        "id": "sf7rkhj5eKYd",
        "colab_type": "code",
        "outputId": "0fa3c3e0-c01c-4105-b21b-83f41075f82a",
        "colab": {
          "base_uri": "https://localhost:8080/",
          "height": 51
        }
      },
      "source": [
        "print(df.loc[df['Pop_by_Hispanic'] == max(df['Pop_by_Hispanic'])]['NAME'])"
      ],
      "execution_count": 0,
      "outputs": [
        {
          "output_type": "stream",
          "text": [
            "210    Los Angeles-Long Beach-Anaheim, CA\n",
            "Name: NAME, dtype: object\n"
          ],
          "name": "stdout"
        }
      ]
    },
    {
      "cell_type": "markdown",
      "metadata": {
        "id": "w3nbKobzhALO",
        "colab_type": "text"
      },
      "source": [
        "##LONG BEACH CA"
      ]
    },
    {
      "cell_type": "code",
      "metadata": {
        "id": "ZD5JZneReUSF",
        "colab_type": "code",
        "colab": {}
      },
      "source": [
        "HH_Income_Percentage = []\n",
        "Pop_by_age_Percentage = []\n",
        "Pop_by_Hispanic_Percentage = []\n",
        "for i, row in df.iterrows():\n",
        "    Percentage_Income = df['Pop_by_Income'][i]/max(df['Pop_by_Income'])\n",
        "    Percentage_Age = df['Pop_by_Age'][i]/max(df['Pop_by_Age'])\n",
        "    Percentage_Hispanic = df['Pop_by_Hispanic'][i]/max(df['Pop_by_Hispanic'])\n",
        "    HH_Income_Percentage.append(Percentage_Income)\n",
        "    Pop_by_age_Percentage.append(Percentage_Age)\n",
        "    Pop_by_Hispanic_Percentage.append(Percentage_Hispanic)\n",
        "\n",
        "df['HH_Income_Percentage'] = HH_Income_Percentage\n",
        "df['Pop_by_age_Percentage'] = Pop_by_age_Percentage\n",
        "df['Pop_by_Hispanic_Percentage'] = Pop_by_Hispanic_Percentage\n",
        "\n",
        "mean_percentage_score = []\n",
        "for i, row in df.iterrows():\n",
        "    Mean = (df['HH_Income_Percentage'][i] + df['Pop_by_age_Percentage'][i]+ df['Pop_by_Hispanic_Percentage'][i])/3\n",
        "    mean_percentage_score.append(Mean)\n",
        "df['mean_percentage_score'] = mean_percentage_score\n",
        "\n"
      ],
      "execution_count": 0,
      "outputs": []
    },
    {
      "cell_type": "code",
      "metadata": {
        "id": "6VqB64H6eVi3",
        "colab_type": "code",
        "outputId": "cf0e87ef-bf0d-43c2-cd7d-864e2af2a879",
        "colab": {
          "base_uri": "https://localhost:8080/",
          "height": 51
        }
      },
      "source": [
        "print(df.loc[df['mean_percentage_score'] == max(df['mean_percentage_score'])]['NAME'])"
      ],
      "execution_count": 0,
      "outputs": [
        {
          "output_type": "stream",
          "text": [
            "249    New York-Newark-Jersey City, NY-NJ-PA\n",
            "Name: NAME, dtype: object\n"
          ],
          "name": "stdout"
        }
      ]
    },
    {
      "cell_type": "markdown",
      "metadata": {
        "id": "ps8AyjYjhC5K",
        "colab_type": "text"
      },
      "source": [
        "##NEWARK NJ"
      ]
    }
  ]
}