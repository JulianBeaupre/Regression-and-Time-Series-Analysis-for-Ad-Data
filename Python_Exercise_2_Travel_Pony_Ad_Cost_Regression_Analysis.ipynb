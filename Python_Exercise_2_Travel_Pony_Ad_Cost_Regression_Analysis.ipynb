{
  "nbformat": 4,
  "nbformat_minor": 0,
  "metadata": {
    "colab": {
      "name": "Python Exercise 2: Travel Pony Ad Cost Regression Analysis",
      "provenance": [],
      "collapsed_sections": [],
      "include_colab_link": true
    },
    "kernelspec": {
      "name": "python3",
      "display_name": "Python 3"
    }
  },
  "cells": [
    {
      "cell_type": "markdown",
      "metadata": {
        "id": "view-in-github",
        "colab_type": "text"
      },
      "source": [
        "<a href=\"https://colab.research.google.com/github/JulianBeaupre/jube1/blob/master/Python_Exercise_2_Travel_Pony_Ad_Cost_Regression_Analysis.ipynb\" target=\"_parent\"><img src=\"https://colab.research.google.com/assets/colab-badge.svg\" alt=\"Open In Colab\"/></a>"
      ]
    },
    {
      "cell_type": "code",
      "metadata": {
        "id": "WPV164Ad_50O",
        "colab_type": "code",
        "colab": {}
      },
      "source": [
        "import pandas as pd\n",
        "import statsmodels.api as sm\n",
        "import seaborn as sns\n",
        "\n",
        "DATA_URL = 'http://128.138.93.164/aprd6342/data/TravelPonyFacebook.csv'\n",
        "df = pd.read_csv(DATA_URL)"
      ],
      "execution_count": 0,
      "outputs": []
    },
    {
      "cell_type": "code",
      "metadata": {
        "id": "nuAXlPCTAL3s",
        "colab_type": "code",
        "outputId": "7b4642db-4d63-4fd6-d804-7a740eb164db",
        "colab": {
          "base_uri": "https://localhost:8080/",
          "height": 394
        }
      },
      "source": [
        "df.head()"
      ],
      "execution_count": 0,
      "outputs": [
        {
          "output_type": "execute_result",
          "data": {
            "text/html": [
              "<div>\n",
              "<style scoped>\n",
              "    .dataframe tbody tr th:only-of-type {\n",
              "        vertical-align: middle;\n",
              "    }\n",
              "\n",
              "    .dataframe tbody tr th {\n",
              "        vertical-align: top;\n",
              "    }\n",
              "\n",
              "    .dataframe thead th {\n",
              "        text-align: right;\n",
              "    }\n",
              "</style>\n",
              "<table border=\"1\" class=\"dataframe\">\n",
              "  <thead>\n",
              "    <tr style=\"text-align: right;\">\n",
              "      <th></th>\n",
              "      <th>Start Date</th>\n",
              "      <th>End Date</th>\n",
              "      <th>Account</th>\n",
              "      <th>Campaign Name</th>\n",
              "      <th>Reach</th>\n",
              "      <th>Frequency</th>\n",
              "      <th>Impressions</th>\n",
              "      <th>Clicks</th>\n",
              "      <th>Unique Clicks</th>\n",
              "      <th>Amount Spent (USD)</th>\n",
              "      <th>Page Likes</th>\n",
              "      <th>Page Engagement</th>\n",
              "      <th>Post Engagement</th>\n",
              "      <th>Post Likes</th>\n",
              "      <th>Post Comments</th>\n",
              "      <th>Post Shares</th>\n",
              "      <th>Photo Views</th>\n",
              "      <th>Website Clicks</th>\n",
              "      <th>Cost per Page Like (USD)</th>\n",
              "      <th>Cost per Page Engagement (USD)</th>\n",
              "    </tr>\n",
              "  </thead>\n",
              "  <tbody>\n",
              "    <tr>\n",
              "      <th>0</th>\n",
              "      <td>2013-12-02</td>\n",
              "      <td>2013-12-02</td>\n",
              "      <td>Bob Jackson</td>\n",
              "      <td>Cyber Weekend</td>\n",
              "      <td>278117</td>\n",
              "      <td>2.314303</td>\n",
              "      <td>643647</td>\n",
              "      <td>336</td>\n",
              "      <td>313</td>\n",
              "      <td>300.00</td>\n",
              "      <td>3</td>\n",
              "      <td>246</td>\n",
              "      <td>243</td>\n",
              "      <td>0</td>\n",
              "      <td>0</td>\n",
              "      <td>0</td>\n",
              "      <td>0</td>\n",
              "      <td>243</td>\n",
              "      <td>100.00</td>\n",
              "      <td>1.219512</td>\n",
              "    </tr>\n",
              "    <tr>\n",
              "      <th>1</th>\n",
              "      <td>2013-12-01</td>\n",
              "      <td>2013-12-01</td>\n",
              "      <td>Bob Jackson</td>\n",
              "      <td>Cyber Weekend</td>\n",
              "      <td>221255</td>\n",
              "      <td>2.079090</td>\n",
              "      <td>460009</td>\n",
              "      <td>376</td>\n",
              "      <td>348</td>\n",
              "      <td>300.00</td>\n",
              "      <td>6</td>\n",
              "      <td>215</td>\n",
              "      <td>209</td>\n",
              "      <td>0</td>\n",
              "      <td>0</td>\n",
              "      <td>0</td>\n",
              "      <td>0</td>\n",
              "      <td>209</td>\n",
              "      <td>50.00</td>\n",
              "      <td>1.395349</td>\n",
              "    </tr>\n",
              "    <tr>\n",
              "      <th>2</th>\n",
              "      <td>2013-11-30</td>\n",
              "      <td>2013-11-30</td>\n",
              "      <td>Bob Jackson</td>\n",
              "      <td>Cyber Weekend</td>\n",
              "      <td>267915</td>\n",
              "      <td>2.499069</td>\n",
              "      <td>669538</td>\n",
              "      <td>383</td>\n",
              "      <td>345</td>\n",
              "      <td>300.00</td>\n",
              "      <td>2</td>\n",
              "      <td>252</td>\n",
              "      <td>250</td>\n",
              "      <td>0</td>\n",
              "      <td>0</td>\n",
              "      <td>0</td>\n",
              "      <td>0</td>\n",
              "      <td>250</td>\n",
              "      <td>150.00</td>\n",
              "      <td>1.190476</td>\n",
              "    </tr>\n",
              "    <tr>\n",
              "      <th>3</th>\n",
              "      <td>2013-11-29</td>\n",
              "      <td>2013-11-29</td>\n",
              "      <td>Bob Jackson</td>\n",
              "      <td>Cyber Weekend</td>\n",
              "      <td>280332</td>\n",
              "      <td>2.365406</td>\n",
              "      <td>663099</td>\n",
              "      <td>301</td>\n",
              "      <td>275</td>\n",
              "      <td>300.00</td>\n",
              "      <td>3</td>\n",
              "      <td>257</td>\n",
              "      <td>254</td>\n",
              "      <td>0</td>\n",
              "      <td>0</td>\n",
              "      <td>0</td>\n",
              "      <td>0</td>\n",
              "      <td>254</td>\n",
              "      <td>100.00</td>\n",
              "      <td>1.167315</td>\n",
              "    </tr>\n",
              "    <tr>\n",
              "      <th>4</th>\n",
              "      <td>2013-11-22</td>\n",
              "      <td>2013-11-22</td>\n",
              "      <td>Bob Jackson</td>\n",
              "      <td>TravelPony: General Ads</td>\n",
              "      <td>14269</td>\n",
              "      <td>1.000420</td>\n",
              "      <td>14275</td>\n",
              "      <td>64</td>\n",
              "      <td>61</td>\n",
              "      <td>35.18</td>\n",
              "      <td>2</td>\n",
              "      <td>14</td>\n",
              "      <td>12</td>\n",
              "      <td>0</td>\n",
              "      <td>0</td>\n",
              "      <td>0</td>\n",
              "      <td>0</td>\n",
              "      <td>12</td>\n",
              "      <td>17.59</td>\n",
              "      <td>2.512857</td>\n",
              "    </tr>\n",
              "  </tbody>\n",
              "</table>\n",
              "</div>"
            ],
            "text/plain": [
              "   Start Date  ... Cost per Page Engagement (USD)\n",
              "0  2013-12-02  ...                       1.219512\n",
              "1  2013-12-01  ...                       1.395349\n",
              "2  2013-11-30  ...                       1.190476\n",
              "3  2013-11-29  ...                       1.167315\n",
              "4  2013-11-22  ...                       2.512857\n",
              "\n",
              "[5 rows x 20 columns]"
            ]
          },
          "metadata": {
            "tags": []
          },
          "execution_count": 4
        }
      ]
    },
    {
      "cell_type": "code",
      "metadata": {
        "id": "s-FS_GHxAY9u",
        "colab_type": "code",
        "colab": {}
      },
      "source": [
        "df_clean = df[(df[['Amount Spent (USD)']] != 0).all(axis=1)] #CLEAN DATA TO NOT INCLUDE ZEROS"
      ],
      "execution_count": 0,
      "outputs": []
    },
    {
      "cell_type": "code",
      "metadata": {
        "id": "-ZWlRA1MCERX",
        "colab_type": "code",
        "outputId": "32684a06-6987-4e08-a233-ab09a3e18be2",
        "colab": {
          "base_uri": "https://localhost:8080/",
          "height": 296
        }
      },
      "source": [
        "sns.set_style('whitegrid')   ##histogram of Amount Spent \n",
        "sns.distplot(df_clean['Amount Spent (USD)'])"
      ],
      "execution_count": 0,
      "outputs": [
        {
          "output_type": "execute_result",
          "data": {
            "text/plain": [
              "<matplotlib.axes._subplots.AxesSubplot at 0x7f997ae529b0>"
            ]
          },
          "metadata": {
            "tags": []
          },
          "execution_count": 10
        },
        {
          "output_type": "display_data",
          "data": {
            "image/png": "[encoded data removed]",
            "text/plain": [
              "<Figure size 432x288 with 1 Axes>"
            ]
          },
          "metadata": {
            "tags": []
          }
        }
      ]
    },
    {
      "cell_type": "code",
      "metadata": {
        "id": "Eqxo0uUvCaqs",
        "colab_type": "code",
        "outputId": "9c6bff77-50ed-43b8-dc45-18174a8e462c",
        "colab": {
          "base_uri": "https://localhost:8080/",
          "height": 296
        }
      },
      "source": [
        "df.plot.scatter(x='Amount Spent (USD)', y='Reach')"
      ],
      "execution_count": 0,
      "outputs": [
        {
          "output_type": "execute_result",
          "data": {
            "text/plain": [
              "<matplotlib.axes._subplots.AxesSubplot at 0x7f997ae24518>"
            ]
          },
          "metadata": {
            "tags": []
          },
          "execution_count": 17
        },
        {
          "output_type": "display_data",
          "data": {
            "image/png": "[encoded data removed]",
            "text/plain": [
              "<Figure size 432x288 with 1 Axes>"
            ]
          },
          "metadata": {
            "tags": []
          }
        }
      ]
    },
    {
      "cell_type": "code",
      "metadata": {
        "id": "7iufomadE2JI",
        "colab_type": "code",
        "outputId": "ee04b2a7-044e-4b04-da9a-654866f55791",
        "colab": {
          "base_uri": "https://localhost:8080/",
          "height": 296
        }
      },
      "source": [
        "df.plot.scatter(x='Amount Spent (USD)', y='Frequency')"
      ],
      "execution_count": 0,
      "outputs": [
        {
          "output_type": "execute_result",
          "data": {
            "text/plain": [
              "<matplotlib.axes._subplots.AxesSubplot at 0x7f997ae3a588>"
            ]
          },
          "metadata": {
            "tags": []
          },
          "execution_count": 18
        },
        {
          "output_type": "display_data",
          "data": {
            "image/png": "[encoded data removed]",
            "text/plain": [
              "<Figure size 432x288 with 1 Axes>"
            ]
          },
          "metadata": {
            "tags": []
          }
        }
      ]
    },
    {
      "cell_type": "code",
      "metadata": {
        "id": "9QyVBHvZE_bq",
        "colab_type": "code",
        "outputId": "36930426-25c9-495d-96af-ed3ce8c4af26",
        "colab": {
          "base_uri": "https://localhost:8080/",
          "height": 299
        }
      },
      "source": [
        "df.plot.scatter(x='Amount Spent (USD)', y='Impressions')"
      ],
      "execution_count": 0,
      "outputs": [
        {
          "output_type": "execute_result",
          "data": {
            "text/plain": [
              "<matplotlib.axes._subplots.AxesSubplot at 0x7f99783a6d68>"
            ]
          },
          "metadata": {
            "tags": []
          },
          "execution_count": 19
        },
        {
          "output_type": "display_data",
          "data": {
            "image/png": "[encoded data removed]",
            "text/plain": [
              "<Figure size 432x288 with 1 Axes>"
            ]
          },
          "metadata": {
            "tags": []
          }
        }
      ]
    },
    {
      "cell_type": "code",
      "metadata": {
        "id": "WD-9V2I1FFmg",
        "colab_type": "code",
        "outputId": "646c26bb-0a9c-4ce6-b1d9-2307bded59f8",
        "colab": {
          "base_uri": "https://localhost:8080/",
          "height": 296
        }
      },
      "source": [
        "df.plot.scatter(x='Amount Spent (USD)', y='Clicks')"
      ],
      "execution_count": 0,
      "outputs": [
        {
          "output_type": "execute_result",
          "data": {
            "text/plain": [
              "<matplotlib.axes._subplots.AxesSubplot at 0x7f9978351d30>"
            ]
          },
          "metadata": {
            "tags": []
          },
          "execution_count": 20
        },
        {
          "output_type": "display_data",
          "data": {
            "image/png": "[encoded data removed]",
            "text/plain": [
              "<Figure size 432x288 with 1 Axes>"
            ]
          },
          "metadata": {
            "tags": []
          }
        }
      ]
    },
    {
      "cell_type": "markdown",
      "metadata": {
        "id": "YD_zPU6AFMCZ",
        "colab_type": "text"
      },
      "source": [
        "##THERE DOES SEEM TO BE SLIGHTLY LINEAR RELATIONSHIPS WITH REACH AND CLICKS BUT NOT FREQUENCY AND IMPRESSIONS. SINCE THERE IS SLIGHT LINEAR RELATIONSHIPS, I DO THINK LINEAR REGRESSION WILL BE APPROPRIATE.\n"
      ]
    },
    {
      "cell_type": "markdown",
      "metadata": {
        "id": "r-fu4evOGejj",
        "colab_type": "text"
      },
      "source": [
        "##MULTIPLE REGRESSION"
      ]
    },
    {
      "cell_type": "code",
      "metadata": {
        "id": "aEwpUgzzGiug",
        "colab_type": "code",
        "outputId": "f83060f3-c96a-4705-f0a2-99df4987054f",
        "colab": {
          "base_uri": "https://localhost:8080/",
          "height": 221
        }
      },
      "source": [
        "df_clean['Campaign Name'] = df_clean['Campaign Name'].astype('str')\n",
        "df_clean['Campaign Name'] = df_clean['Campaign Name'].str.replace('[^a-zA-Z0-9:\\s+]', '')"
      ],
      "execution_count": 0,
      "outputs": [
        {
          "output_type": "stream",
          "text": [
            "/usr/local/lib/python3.6/dist-packages/ipykernel_launcher.py:1: SettingWithCopyWarning: \n",
            "A value is trying to be set on a copy of a slice from a DataFrame.\n",
            "Try using .loc[row_indexer,col_indexer] = value instead\n",
            "\n",
            "See the caveats in the documentation: http://pandas.pydata.org/pandas-docs/stable/user_guide/indexing.html#returning-a-view-versus-a-copy\n",
            "  \"\"\"Entry point for launching an IPython kernel.\n",
            "/usr/local/lib/python3.6/dist-packages/ipykernel_launcher.py:2: SettingWithCopyWarning: \n",
            "A value is trying to be set on a copy of a slice from a DataFrame.\n",
            "Try using .loc[row_indexer,col_indexer] = value instead\n",
            "\n",
            "See the caveats in the documentation: http://pandas.pydata.org/pandas-docs/stable/user_guide/indexing.html#returning-a-view-versus-a-copy\n",
            "  \n"
          ],
          "name": "stderr"
        }
      ]
    },
    {
      "cell_type": "code",
      "metadata": {
        "id": "FvZ0L6_KGs_W",
        "colab_type": "code",
        "outputId": "242ac86e-3c49-499d-a69c-8e2352f4cf19",
        "colab": {
          "base_uri": "https://localhost:8080/",
          "height": 221
        }
      },
      "source": [
        "df_clean['Campaign Name'] = df_clean['Campaign Name'].str.replace('\\d+', '')\n",
        "df_clean.loc[df_clean['Campaign Name'].str.contains('travelpony', case = False), 'Campaign Name'] = 'TravelPony'\n",
        "df_clean.loc[df_clean['Campaign Name'].str.contains('post', case = False), 'Campaign Name'] = 'Post'\n",
        "campaign_name = pd.get_dummies(df_clean['Campaign Name'])\n",
        "df_clean = pd.concat([df_clean, campaign_name], axis=1)"
      ],
      "execution_count": 0,
      "outputs": [
        {
          "output_type": "stream",
          "text": [
            "/usr/local/lib/python3.6/dist-packages/ipykernel_launcher.py:1: SettingWithCopyWarning: \n",
            "A value is trying to be set on a copy of a slice from a DataFrame.\n",
            "Try using .loc[row_indexer,col_indexer] = value instead\n",
            "\n",
            "See the caveats in the documentation: http://pandas.pydata.org/pandas-docs/stable/user_guide/indexing.html#returning-a-view-versus-a-copy\n",
            "  \"\"\"Entry point for launching an IPython kernel.\n",
            "/usr/local/lib/python3.6/dist-packages/pandas/core/indexing.py:494: SettingWithCopyWarning: \n",
            "A value is trying to be set on a copy of a slice from a DataFrame.\n",
            "Try using .loc[row_indexer,col_indexer] = value instead\n",
            "\n",
            "See the caveats in the documentation: http://pandas.pydata.org/pandas-docs/stable/user_guide/indexing.html#returning-a-view-versus-a-copy\n",
            "  self.obj[item] = s\n"
          ],
          "name": "stderr"
        }
      ]
    },
    {
      "cell_type": "code",
      "metadata": {
        "id": "43YPfBz1GztA",
        "colab_type": "code",
        "outputId": "6c931276-1f02-4a93-a329-5ce0909c709a",
        "colab": {
          "base_uri": "https://localhost:8080/",
          "height": 412
        }
      },
      "source": [
        "DEPVAR = df_clean['Amount Spent (USD)']\n",
        "INVVAR = df_clean[['Ad ','Cyber Weekend','Nanigans','Post','SimpleMultiFillCampaign','TravelPony','Reach','Frequency','Impressions','Clicks','Unique Clicks','Page Likes','Page Engagement','Post Engagement','Post Likes','Post Comments','Post Shares','Photo Views','Website Clicks']]\n",
        "model = sm.OLS(DEPVAR, INVVAR).fit()\n",
        "predictions = model.predict(DEPVAR) # make the predictions by the model\n",
        "model.summary()"
      ],
      "execution_count": 0,
      "outputs": [
        {
          "output_type": "error",
          "ename": "ValueError",
          "evalue": "ignored",
          "traceback": [
            "\u001b[0;31m---------------------------------------------------------------------------\u001b[0m",
            "\u001b[0;31mValueError\u001b[0m                                Traceback (most recent call last)",
            "\u001b[0;32m<ipython-input-26-efe8d9f006f5>\u001b[0m in \u001b[0;36m<module>\u001b[0;34m()\u001b[0m\n\u001b[1;32m      2\u001b[0m \u001b[0mINVVAR\u001b[0m \u001b[0;34m=\u001b[0m \u001b[0mdf_clean\u001b[0m\u001b[0;34m[\u001b[0m\u001b[0;34m[\u001b[0m\u001b[0;34m'Ad '\u001b[0m\u001b[0;34m,\u001b[0m\u001b[0;34m'Cyber Weekend'\u001b[0m\u001b[0;34m,\u001b[0m\u001b[0;34m'Nanigans'\u001b[0m\u001b[0;34m,\u001b[0m\u001b[0;34m'Post'\u001b[0m\u001b[0;34m,\u001b[0m\u001b[0;34m'SimpleMultiFillCampaign'\u001b[0m\u001b[0;34m,\u001b[0m\u001b[0;34m'TravelPony'\u001b[0m\u001b[0;34m,\u001b[0m\u001b[0;34m'Reach'\u001b[0m\u001b[0;34m,\u001b[0m\u001b[0;34m'Frequency'\u001b[0m\u001b[0;34m,\u001b[0m\u001b[0;34m'Impressions'\u001b[0m\u001b[0;34m,\u001b[0m\u001b[0;34m'Clicks'\u001b[0m\u001b[0;34m,\u001b[0m\u001b[0;34m'Unique Clicks'\u001b[0m\u001b[0;34m,\u001b[0m\u001b[0;34m'Page Likes'\u001b[0m\u001b[0;34m,\u001b[0m\u001b[0;34m'Page Engagement'\u001b[0m\u001b[0;34m,\u001b[0m\u001b[0;34m'Post Engagement'\u001b[0m\u001b[0;34m,\u001b[0m\u001b[0;34m'Post Likes'\u001b[0m\u001b[0;34m,\u001b[0m\u001b[0;34m'Post Comments'\u001b[0m\u001b[0;34m,\u001b[0m\u001b[0;34m'Post Shares'\u001b[0m\u001b[0;34m,\u001b[0m\u001b[0;34m'Photo Views'\u001b[0m\u001b[0;34m,\u001b[0m\u001b[0;34m'Website Clicks'\u001b[0m\u001b[0;34m]\u001b[0m\u001b[0;34m]\u001b[0m\u001b[0;34m\u001b[0m\u001b[0;34m\u001b[0m\u001b[0m\n\u001b[1;32m      3\u001b[0m \u001b[0mmodel\u001b[0m \u001b[0;34m=\u001b[0m \u001b[0msm\u001b[0m\u001b[0;34m.\u001b[0m\u001b[0mOLS\u001b[0m\u001b[0;34m(\u001b[0m\u001b[0mDEPVAR\u001b[0m\u001b[0;34m,\u001b[0m \u001b[0mINVVAR\u001b[0m\u001b[0;34m)\u001b[0m\u001b[0;34m.\u001b[0m\u001b[0mfit\u001b[0m\u001b[0;34m(\u001b[0m\u001b[0;34m)\u001b[0m\u001b[0;34m\u001b[0m\u001b[0;34m\u001b[0m\u001b[0m\n\u001b[0;32m----> 4\u001b[0;31m \u001b[0mpredictions\u001b[0m \u001b[0;34m=\u001b[0m \u001b[0mmodel\u001b[0m\u001b[0;34m.\u001b[0m\u001b[0mpredict\u001b[0m\u001b[0;34m(\u001b[0m\u001b[0mDEPVAR\u001b[0m\u001b[0;34m)\u001b[0m \u001b[0;31m# make the predictions by the model\u001b[0m\u001b[0;34m\u001b[0m\u001b[0;34m\u001b[0m\u001b[0m\n\u001b[0m\u001b[1;32m      5\u001b[0m \u001b[0mmodel\u001b[0m\u001b[0;34m.\u001b[0m\u001b[0msummary\u001b[0m\u001b[0;34m(\u001b[0m\u001b[0;34m)\u001b[0m\u001b[0;34m\u001b[0m\u001b[0;34m\u001b[0m\u001b[0m\n",
            "\u001b[0;32m/usr/local/lib/python3.6/dist-packages/statsmodels/base/model.py\u001b[0m in \u001b[0;36mpredict\u001b[0;34m(self, exog, transform, *args, **kwargs)\u001b[0m\n\u001b[1;32m   1036\u001b[0m \u001b[0;34m\u001b[0m\u001b[0m\n\u001b[1;32m   1037\u001b[0m         predict_results = self.model.predict(self.params, exog, *args,\n\u001b[0;32m-> 1038\u001b[0;31m                                              **kwargs)\n\u001b[0m\u001b[1;32m   1039\u001b[0m \u001b[0;34m\u001b[0m\u001b[0m\n\u001b[1;32m   1040\u001b[0m         if exog_index is not None and not hasattr(predict_results,\n",
            "\u001b[0;32m/usr/local/lib/python3.6/dist-packages/statsmodels/regression/linear_model.py\u001b[0m in \u001b[0;36mpredict\u001b[0;34m(self, params, exog)\u001b[0m\n\u001b[1;32m    362\u001b[0m             \u001b[0mexog\u001b[0m \u001b[0;34m=\u001b[0m \u001b[0mself\u001b[0m\u001b[0;34m.\u001b[0m\u001b[0mexog\u001b[0m\u001b[0;34m\u001b[0m\u001b[0;34m\u001b[0m\u001b[0m\n\u001b[1;32m    363\u001b[0m \u001b[0;34m\u001b[0m\u001b[0m\n\u001b[0;32m--> 364\u001b[0;31m         \u001b[0;32mreturn\u001b[0m \u001b[0mnp\u001b[0m\u001b[0;34m.\u001b[0m\u001b[0mdot\u001b[0m\u001b[0;34m(\u001b[0m\u001b[0mexog\u001b[0m\u001b[0;34m,\u001b[0m \u001b[0mparams\u001b[0m\u001b[0;34m)\u001b[0m\u001b[0;34m\u001b[0m\u001b[0;34m\u001b[0m\u001b[0m\n\u001b[0m\u001b[1;32m    365\u001b[0m \u001b[0;34m\u001b[0m\u001b[0m\n\u001b[1;32m    366\u001b[0m     \u001b[0;32mdef\u001b[0m \u001b[0mget_distribution\u001b[0m\u001b[0;34m(\u001b[0m\u001b[0mself\u001b[0m\u001b[0;34m,\u001b[0m \u001b[0mparams\u001b[0m\u001b[0;34m,\u001b[0m \u001b[0mscale\u001b[0m\u001b[0;34m,\u001b[0m \u001b[0mexog\u001b[0m\u001b[0;34m=\u001b[0m\u001b[0;32mNone\u001b[0m\u001b[0;34m,\u001b[0m \u001b[0mdist_class\u001b[0m\u001b[0;34m=\u001b[0m\u001b[0;32mNone\u001b[0m\u001b[0;34m)\u001b[0m\u001b[0;34m:\u001b[0m\u001b[0;34m\u001b[0m\u001b[0;34m\u001b[0m\u001b[0m\n",
            "\u001b[0;32m<__array_function__ internals>\u001b[0m in \u001b[0;36mdot\u001b[0;34m(*args, **kwargs)\u001b[0m\n",
            "\u001b[0;31mValueError\u001b[0m: shapes (1,1802) and (19,) not aligned: 1802 (dim 1) != 19 (dim 0)"
          ]
        }
      ]
    },
    {
      "cell_type": "code",
      "metadata": {
        "id": "zGlfDYQjHQIJ",
        "colab_type": "code",
        "outputId": "12f73502-370f-4cfc-f1cd-f46b6dead804",
        "colab": {
          "base_uri": "https://localhost:8080/",
          "height": 835
        }
      },
      "source": [
        "depvar = df_clean['Amount Spent (USD)']\n",
        "invar = df_clean[['Ad ','Cyber Weekend','Nanigans','Post','SimpleMultiFillCampaign','TravelPony','Reach','Frequency','Impressions','Clicks','Unique Clicks','Page Likes','Page Engagement','Post Engagement','Post Likes','Post Comments','Post Shares','Photo Views','Website Clicks']]\n",
        "model1 = sm.OLS(depvar, invar).fit()\n",
        "predict = model1.predict(invar) \n",
        "model.summary()"
      ],
      "execution_count": 0,
      "outputs": [
        {
          "output_type": "execute_result",
          "data": {
            "text/html": [
              "<table class=\"simpletable\">\n",
              "<caption>OLS Regression Results</caption>\n",
              "<tr>\n",
              "  <th>Dep. Variable:</th>    <td>Amount Spent (USD)</td> <th>  R-squared:         </th> <td>   0.928</td> \n",
              "</tr>\n",
              "<tr>\n",
              "  <th>Model:</th>                    <td>OLS</td>        <th>  Adj. R-squared:    </th> <td>   0.928</td> \n",
              "</tr>\n",
              "<tr>\n",
              "  <th>Method:</th>              <td>Least Squares</td>   <th>  F-statistic:       </th> <td>   1360.</td> \n",
              "</tr>\n",
              "<tr>\n",
              "  <th>Date:</th>              <td>Thu, 21 Nov 2019</td>  <th>  Prob (F-statistic):</th>  <td>  0.00</td>  \n",
              "</tr>\n",
              "<tr>\n",
              "  <th>Time:</th>                  <td>04:00:12</td>      <th>  Log-Likelihood:    </th> <td> -6573.0</td> \n",
              "</tr>\n",
              "<tr>\n",
              "  <th>No. Observations:</th>       <td>  1802</td>       <th>  AIC:               </th> <td>1.318e+04</td>\n",
              "</tr>\n",
              "<tr>\n",
              "  <th>Df Residuals:</th>           <td>  1784</td>       <th>  BIC:               </th> <td>1.328e+04</td>\n",
              "</tr>\n",
              "<tr>\n",
              "  <th>Df Model:</th>               <td>    17</td>       <th>                     </th>     <td> </td>    \n",
              "</tr>\n",
              "<tr>\n",
              "  <th>Covariance Type:</th>       <td>nonrobust</td>     <th>                     </th>     <td> </td>    \n",
              "</tr>\n",
              "</table>\n",
              "<table class=\"simpletable\">\n",
              "<tr>\n",
              "             <td></td>                <th>coef</th>     <th>std err</th>      <th>t</th>      <th>P>|t|</th>  <th>[0.025</th>    <th>0.975]</th>  \n",
              "</tr>\n",
              "<tr>\n",
              "  <th>Ad </th>                     <td>    0.1666</td> <td>    3.803</td> <td>    0.044</td> <td> 0.965</td> <td>   -7.292</td> <td>    7.625</td>\n",
              "</tr>\n",
              "<tr>\n",
              "  <th>Cyber Weekend</th>           <td> -193.3195</td> <td>   26.951</td> <td>   -7.173</td> <td> 0.000</td> <td> -246.179</td> <td> -140.460</td>\n",
              "</tr>\n",
              "<tr>\n",
              "  <th>Nanigans</th>                <td>   -2.3150</td> <td>    2.014</td> <td>   -1.149</td> <td> 0.251</td> <td>   -6.266</td> <td>    1.636</td>\n",
              "</tr>\n",
              "<tr>\n",
              "  <th>Post</th>                    <td>  -12.0410</td> <td>    7.576</td> <td>   -1.589</td> <td> 0.112</td> <td>  -26.899</td> <td>    2.817</td>\n",
              "</tr>\n",
              "<tr>\n",
              "  <th>SimpleMultiFillCampaign</th> <td>   -0.0647</td> <td>    1.882</td> <td>   -0.034</td> <td> 0.973</td> <td>   -3.756</td> <td>    3.627</td>\n",
              "</tr>\n",
              "<tr>\n",
              "  <th>TravelPony</th>              <td>    7.2926</td> <td>    4.253</td> <td>    1.715</td> <td> 0.087</td> <td>   -1.048</td> <td>   15.633</td>\n",
              "</tr>\n",
              "<tr>\n",
              "  <th>Reach</th>                   <td>    0.0033</td> <td>    0.000</td> <td>   20.921</td> <td> 0.000</td> <td>    0.003</td> <td>    0.004</td>\n",
              "</tr>\n",
              "<tr>\n",
              "  <th>Frequency</th>               <td>   -0.7778</td> <td>    1.836</td> <td>   -0.424</td> <td> 0.672</td> <td>   -4.378</td> <td>    2.823</td>\n",
              "</tr>\n",
              "<tr>\n",
              "  <th>Impressions</th>             <td>   -0.0009</td> <td> 8.41e-05</td> <td>  -10.146</td> <td> 0.000</td> <td>   -0.001</td> <td>   -0.001</td>\n",
              "</tr>\n",
              "<tr>\n",
              "  <th>Clicks</th>                  <td>   -0.3859</td> <td>    0.113</td> <td>   -3.413</td> <td> 0.001</td> <td>   -0.608</td> <td>   -0.164</td>\n",
              "</tr>\n",
              "<tr>\n",
              "  <th>Unique Clicks</th>           <td>    0.5155</td> <td>    0.127</td> <td>    4.057</td> <td> 0.000</td> <td>    0.266</td> <td>    0.765</td>\n",
              "</tr>\n",
              "<tr>\n",
              "  <th>Page Likes</th>              <td>   24.4507</td> <td>    9.359</td> <td>    2.613</td> <td> 0.009</td> <td>    6.096</td> <td>   42.806</td>\n",
              "</tr>\n",
              "<tr>\n",
              "  <th>Page Engagement</th>         <td>  -21.1451</td> <td>    9.355</td> <td>   -2.260</td> <td> 0.024</td> <td>  -39.494</td> <td>   -2.796</td>\n",
              "</tr>\n",
              "<tr>\n",
              "  <th>Post Engagement</th>         <td>   18.0241</td> <td>    7.797</td> <td>    2.312</td> <td> 0.021</td> <td>    2.732</td> <td>   33.316</td>\n",
              "</tr>\n",
              "<tr>\n",
              "  <th>Post Likes</th>              <td>    2.6100</td> <td>    1.564</td> <td>    1.669</td> <td> 0.095</td> <td>   -0.458</td> <td>    5.678</td>\n",
              "</tr>\n",
              "<tr>\n",
              "  <th>Post Comments</th>           <td>    3.5949</td> <td>    1.627</td> <td>    2.209</td> <td> 0.027</td> <td>    0.403</td> <td>    6.787</td>\n",
              "</tr>\n",
              "<tr>\n",
              "  <th>Post Shares</th>             <td>    4.9334</td> <td>    1.588</td> <td>    3.107</td> <td> 0.002</td> <td>    1.819</td> <td>    8.048</td>\n",
              "</tr>\n",
              "<tr>\n",
              "  <th>Photo Views</th>             <td>    3.3214</td> <td>    1.562</td> <td>    2.126</td> <td> 0.034</td> <td>    0.257</td> <td>    6.385</td>\n",
              "</tr>\n",
              "<tr>\n",
              "  <th>Website Clicks</th>          <td>    3.5644</td> <td>    1.563</td> <td>    2.281</td> <td> 0.023</td> <td>    0.500</td> <td>    6.629</td>\n",
              "</tr>\n",
              "</table>\n",
              "<table class=\"simpletable\">\n",
              "<tr>\n",
              "  <th>Omnibus:</th>       <td>796.064</td> <th>  Durbin-Watson:     </th> <td>   1.812</td> \n",
              "</tr>\n",
              "<tr>\n",
              "  <th>Prob(Omnibus):</th> <td> 0.000</td>  <th>  Jarque-Bera (JB):  </th> <td>21680.838</td>\n",
              "</tr>\n",
              "<tr>\n",
              "  <th>Skew:</th>          <td> 1.484</td>  <th>  Prob(JB):          </th> <td>    0.00</td> \n",
              "</tr>\n",
              "<tr>\n",
              "  <th>Kurtosis:</th>      <td>19.732</td>  <th>  Cond. No.          </th> <td>3.51e+18</td> \n",
              "</tr>\n",
              "</table><br/><br/>Warnings:<br/>[1] Standard Errors assume that the covariance matrix of the errors is correctly specified.<br/>[2] The smallest eigenvalue is 1.57e-25. This might indicate that there are<br/>strong multicollinearity problems or that the design matrix is singular."
            ],
            "text/plain": [
              "<class 'statsmodels.iolib.summary.Summary'>\n",
              "\"\"\"\n",
              "                            OLS Regression Results                            \n",
              "==============================================================================\n",
              "Dep. Variable:     Amount Spent (USD)   R-squared:                       0.928\n",
              "Model:                            OLS   Adj. R-squared:                  0.928\n",
              "Method:                 Least Squares   F-statistic:                     1360.\n",
              "Date:                Thu, 21 Nov 2019   Prob (F-statistic):               0.00\n",
              "Time:                        04:00:12   Log-Likelihood:                -6573.0\n",
              "No. Observations:                1802   AIC:                         1.318e+04\n",
              "Df Residuals:                    1784   BIC:                         1.328e+04\n",
              "Df Model:                          17                                         \n",
              "Covariance Type:            nonrobust                                         \n",
              "===========================================================================================\n",
              "                              coef    std err          t      P>|t|      [0.025      0.975]\n",
              "-------------------------------------------------------------------------------------------\n",
              "Ad                          0.1666      3.803      0.044      0.965      -7.292       7.625\n",
              "Cyber Weekend            -193.3195     26.951     -7.173      0.000    -246.179    -140.460\n",
              "Nanigans                   -2.3150      2.014     -1.149      0.251      -6.266       1.636\n",
              "Post                      -12.0410      7.576     -1.589      0.112     -26.899       2.817\n",
              "SimpleMultiFillCampaign    -0.0647      1.882     -0.034      0.973      -3.756       3.627\n",
              "TravelPony                  7.2926      4.253      1.715      0.087      -1.048      15.633\n",
              "Reach                       0.0033      0.000     20.921      0.000       0.003       0.004\n",
              "Frequency                  -0.7778      1.836     -0.424      0.672      -4.378       2.823\n",
              "Impressions                -0.0009   8.41e-05    -10.146      0.000      -0.001      -0.001\n",
              "Clicks                     -0.3859      0.113     -3.413      0.001      -0.608      -0.164\n",
              "Unique Clicks               0.5155      0.127      4.057      0.000       0.266       0.765\n",
              "Page Likes                 24.4507      9.359      2.613      0.009       6.096      42.806\n",
              "Page Engagement           -21.1451      9.355     -2.260      0.024     -39.494      -2.796\n",
              "Post Engagement            18.0241      7.797      2.312      0.021       2.732      33.316\n",
              "Post Likes                  2.6100      1.564      1.669      0.095      -0.458       5.678\n",
              "Post Comments               3.5949      1.627      2.209      0.027       0.403       6.787\n",
              "Post Shares                 4.9334      1.588      3.107      0.002       1.819       8.048\n",
              "Photo Views                 3.3214      1.562      2.126      0.034       0.257       6.385\n",
              "Website Clicks              3.5644      1.563      2.281      0.023       0.500       6.629\n",
              "==============================================================================\n",
              "Omnibus:                      796.064   Durbin-Watson:                   1.812\n",
              "Prob(Omnibus):                  0.000   Jarque-Bera (JB):            21680.838\n",
              "Skew:                           1.484   Prob(JB):                         0.00\n",
              "Kurtosis:                      19.732   Cond. No.                     3.51e+18\n",
              "==============================================================================\n",
              "\n",
              "Warnings:\n",
              "[1] Standard Errors assume that the covariance matrix of the errors is correctly specified.\n",
              "[2] The smallest eigenvalue is 1.57e-25. This might indicate that there are\n",
              "strong multicollinearity problems or that the design matrix is singular.\n",
              "\"\"\""
            ]
          },
          "metadata": {
            "tags": []
          },
          "execution_count": 30
        }
      ]
    },
    {
      "cell_type": "markdown",
      "metadata": {
        "id": "lhJBt1FoHuo8",
        "colab_type": "text"
      },
      "source": [
        "##THREE PREDICTORS WITH HIGHEST PREDICTIVE VALUE"
      ]
    },
    {
      "cell_type": "code",
      "metadata": {
        "id": "ok4J4U8KH0TM",
        "colab_type": "code",
        "colab": {}
      },
      "source": [
        "ModelSummary = []"
      ],
      "execution_count": 0,
      "outputs": []
    },
    {
      "cell_type": "code",
      "metadata": {
        "id": "sceXKr8uH5Cl",
        "colab_type": "code",
        "outputId": "5afe417b-f7c6-4c2e-9ffd-18046401548a",
        "colab": {
          "base_uri": "https://localhost:8080/",
          "height": 421
        }
      },
      "source": [
        "ModelSummary = pd.concat([model.params, model.pvalues, ],axis=1)\n",
        "ModelSummary.columns = ['Coef', 'Pvalue']\n",
        "ModelSummary = ModelSummary[ModelSummary['Pvalue'] <= 0.05].sort_values('Coef', ascending = False)\n",
        "ModelSummary['Rank'] = ModelSummary['Coef'].rank(ascending=0).astype(int)\n",
        "ModelSummary"
      ],
      "execution_count": 0,
      "outputs": [
        {
          "output_type": "execute_result",
          "data": {
            "text/html": [
              "<div>\n",
              "<style scoped>\n",
              "    .dataframe tbody tr th:only-of-type {\n",
              "        vertical-align: middle;\n",
              "    }\n",
              "\n",
              "    .dataframe tbody tr th {\n",
              "        vertical-align: top;\n",
              "    }\n",
              "\n",
              "    .dataframe thead th {\n",
              "        text-align: right;\n",
              "    }\n",
              "</style>\n",
              "<table border=\"1\" class=\"dataframe\">\n",
              "  <thead>\n",
              "    <tr style=\"text-align: right;\">\n",
              "      <th></th>\n",
              "      <th>Coef</th>\n",
              "      <th>Pvalue</th>\n",
              "      <th>Rank</th>\n",
              "    </tr>\n",
              "  </thead>\n",
              "  <tbody>\n",
              "    <tr>\n",
              "      <th>Page Likes</th>\n",
              "      <td>24.450740</td>\n",
              "      <td>9.059883e-03</td>\n",
              "      <td>1</td>\n",
              "    </tr>\n",
              "    <tr>\n",
              "      <th>Post Engagement</th>\n",
              "      <td>18.024142</td>\n",
              "      <td>2.090729e-02</td>\n",
              "      <td>2</td>\n",
              "    </tr>\n",
              "    <tr>\n",
              "      <th>Post Shares</th>\n",
              "      <td>4.933423</td>\n",
              "      <td>1.920459e-03</td>\n",
              "      <td>3</td>\n",
              "    </tr>\n",
              "    <tr>\n",
              "      <th>Post Comments</th>\n",
              "      <td>3.594876</td>\n",
              "      <td>2.731019e-02</td>\n",
              "      <td>4</td>\n",
              "    </tr>\n",
              "    <tr>\n",
              "      <th>Website Clicks</th>\n",
              "      <td>3.564398</td>\n",
              "      <td>2.265358e-02</td>\n",
              "      <td>5</td>\n",
              "    </tr>\n",
              "    <tr>\n",
              "      <th>Photo Views</th>\n",
              "      <td>3.321407</td>\n",
              "      <td>3.363899e-02</td>\n",
              "      <td>6</td>\n",
              "    </tr>\n",
              "    <tr>\n",
              "      <th>Unique Clicks</th>\n",
              "      <td>0.515465</td>\n",
              "      <td>5.180673e-05</td>\n",
              "      <td>7</td>\n",
              "    </tr>\n",
              "    <tr>\n",
              "      <th>Reach</th>\n",
              "      <td>0.003310</td>\n",
              "      <td>4.302627e-87</td>\n",
              "      <td>8</td>\n",
              "    </tr>\n",
              "    <tr>\n",
              "      <th>Impressions</th>\n",
              "      <td>-0.000853</td>\n",
              "      <td>1.482248e-23</td>\n",
              "      <td>9</td>\n",
              "    </tr>\n",
              "    <tr>\n",
              "      <th>Clicks</th>\n",
              "      <td>-0.385926</td>\n",
              "      <td>6.578548e-04</td>\n",
              "      <td>10</td>\n",
              "    </tr>\n",
              "    <tr>\n",
              "      <th>Page Engagement</th>\n",
              "      <td>-21.145054</td>\n",
              "      <td>2.392916e-02</td>\n",
              "      <td>11</td>\n",
              "    </tr>\n",
              "    <tr>\n",
              "      <th>Cyber Weekend</th>\n",
              "      <td>-193.319513</td>\n",
              "      <td>1.071102e-12</td>\n",
              "      <td>12</td>\n",
              "    </tr>\n",
              "  </tbody>\n",
              "</table>\n",
              "</div>"
            ],
            "text/plain": [
              "                       Coef        Pvalue  Rank\n",
              "Page Likes        24.450740  9.059883e-03     1\n",
              "Post Engagement   18.024142  2.090729e-02     2\n",
              "Post Shares        4.933423  1.920459e-03     3\n",
              "Post Comments      3.594876  2.731019e-02     4\n",
              "Website Clicks     3.564398  2.265358e-02     5\n",
              "Photo Views        3.321407  3.363899e-02     6\n",
              "Unique Clicks      0.515465  5.180673e-05     7\n",
              "Reach              0.003310  4.302627e-87     8\n",
              "Impressions       -0.000853  1.482248e-23     9\n",
              "Clicks            -0.385926  6.578548e-04    10\n",
              "Page Engagement  -21.145054  2.392916e-02    11\n",
              "Cyber Weekend   -193.319513  1.071102e-12    12"
            ]
          },
          "metadata": {
            "tags": []
          },
          "execution_count": 32
        }
      ]
    },
    {
      "cell_type": "markdown",
      "metadata": {
        "id": "jPTePgaUH_C9",
        "colab_type": "text"
      },
      "source": [
        "##THE THREE PREDICTORS WITH THE HIGHEST PREDICTIVE VALUE ARE \"PAGE LIKES\", \"POST ENGAGEMENT\" AND \"POST SHARES\""
      ]
    }
  ]
}